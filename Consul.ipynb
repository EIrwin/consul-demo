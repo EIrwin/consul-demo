{
 "cells": [
  {
   "cell_type": "markdown",
   "metadata": {},
   "source": [
    "# Consul Intro\n",
    "\n",
    "Pleas se the [README.md](https://github.com/micahhausler/consul-demo/blob/master/README.md) and get your consul cluster up and running"
   ]
  },
  {
   "cell_type": "code",
   "execution_count": 19,
   "metadata": {
    "collapsed": true
   },
   "outputs": [],
   "source": [
    "import requests\n",
    "\n",
    "base_url = 'http://192.168.59.103:8500/v1/kv/'"
   ]
  },
  {
   "cell_type": "markdown",
   "metadata": {},
   "source": [
    "## Setting a key/value with `requests`\n",
    "For full documentation, see the [Consul http-api](https://www.consul.io/docs/agent/http.html)"
   ]
  },
  {
   "cell_type": "code",
   "execution_count": 20,
   "metadata": {
    "collapsed": false
   },
   "outputs": [
    {
     "name": "stdout",
     "output_type": "stream",
     "text": [
      "true\n"
     ]
    }
   ],
   "source": [
    "response = requests.put(base_url + 'key1', data=\"value1\")\n",
    "print(response.text)"
   ]
  },
  {
   "cell_type": "markdown",
   "metadata": {},
   "source": [
    "## Getting a key/value with `python-consul`\n",
    "For full documentation, see python-consul [documentation](http://python-consul.readthedocs.org/en/latest/#consul-kv)"
   ]
  },
  {
   "cell_type": "code",
   "execution_count": 21,
   "metadata": {
    "collapsed": false
   },
   "outputs": [
    {
     "name": "stdout",
     "output_type": "stream",
     "text": [
      "value1\n"
     ]
    }
   ],
   "source": [
    "from consul import Consul\n",
    "\n",
    "c = Consul('192.168.59.103')\n",
    "\n",
    "index, data = c.kv.get('key1')\n",
    "\n",
    "print(data['Value'].decode('utf8'))"
   ]
  },
  {
   "cell_type": "markdown",
   "metadata": {
    "collapsed": true
   },
   "source": [
    "## Other features:\n",
    "\n",
    "* Locks\n",
    "* DNS for service discovery\n",
    "* Limit access to key/value subsets with ACL's and tokens"
   ]
  },
  {
   "cell_type": "code",
   "execution_count": null,
   "metadata": {
    "collapsed": true
   },
   "outputs": [],
   "source": []
  }
 ],
 "metadata": {
  "kernelspec": {
   "display_name": "Python 3",
   "language": "python",
   "name": "python3"
  },
  "language_info": {
   "codemirror_mode": {
    "name": "ipython",
    "version": 3
   },
   "file_extension": ".py",
   "mimetype": "text/x-python",
   "name": "python",
   "nbconvert_exporter": "python",
   "pygments_lexer": "ipython3",
   "version": "3.4.2"
  }
 },
 "nbformat": 4,
 "nbformat_minor": 0
}
